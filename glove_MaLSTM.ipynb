{
  "cells": [
    {
      "cell_type": "code",
      "execution_count": 1,
      "metadata": {
        "colab": {
          "base_uri": "https://localhost:8080/"
        },
        "id": "Uzb92ccFehfX",
        "outputId": "93891b30-b3c3-4089-8c68-5144e935a050"
      },
      "outputs": [
        {
          "name": "stdout",
          "output_type": "stream",
          "text": [
            "Thu Jan  4 18:00:50 2024       \n",
            "+---------------------------------------------------------------------------------------+\n",
            "| NVIDIA-SMI 535.104.05             Driver Version: 535.104.05   CUDA Version: 12.2     |\n",
            "|-----------------------------------------+----------------------+----------------------+\n",
            "| GPU  Name                 Persistence-M | Bus-Id        Disp.A | Volatile Uncorr. ECC |\n",
            "| Fan  Temp   Perf          Pwr:Usage/Cap |         Memory-Usage | GPU-Util  Compute M. |\n",
            "|                                         |                      |               MIG M. |\n",
            "|=========================================+======================+======================|\n",
            "|   0  Tesla T4                       Off | 00000000:00:04.0 Off |                    0 |\n",
            "| N/A   45C    P8              11W /  70W |      0MiB / 15360MiB |      0%      Default |\n",
            "|                                         |                      |                  N/A |\n",
            "+-----------------------------------------+----------------------+----------------------+\n",
            "                                                                                         \n",
            "+---------------------------------------------------------------------------------------+\n",
            "| Processes:                                                                            |\n",
            "|  GPU   GI   CI        PID   Type   Process name                            GPU Memory |\n",
            "|        ID   ID                                                             Usage      |\n",
            "|=======================================================================================|\n",
            "|  No running processes found                                                           |\n",
            "+---------------------------------------------------------------------------------------+\n"
          ]
        }
      ],
      "source": [
        "# GPU info\n",
        "!nvidia-smi"
      ]
    },
    {
      "cell_type": "code",
      "execution_count": 2,
      "metadata": {
        "colab": {
          "base_uri": "https://localhost:8080/"
        },
        "id": "5X9zY-8PiOlh",
        "outputId": "5df24c5c-9e98-4739-d486-5552c636b9b4"
      },
      "outputs": [
        {
          "name": "stdout",
          "output_type": "stream",
          "text": [
            "Mounted at /content/drive/\n"
          ]
        }
      ],
      "source": [
        "from google.colab import drive\n",
        "drive.mount('/content/drive/', force_remount=True)"
      ]
    },
    {
      "cell_type": "code",
      "execution_count": 3,
      "metadata": {
        "id": "N9bb23lkgnDu"
      },
      "outputs": [],
      "source": [
        "import os\n",
        "\n",
        "import tensorflow as tf\n",
        "import keras.backend as K\n",
        "\n",
        "from tensorflow.keras.preprocessing.sequence import pad_sequences\n",
        "from tensorflow.keras.layers import Embedding\n",
        "\n",
        "import numpy as np\n",
        "import pandas as pd\n",
        "\n",
        "import matplotlib.pyplot as plt\n",
        "\n",
        "import pickle"
      ]
    },
    {
      "cell_type": "code",
      "execution_count": 4,
      "metadata": {
        "id": "vgPycqQRg8fg"
      },
      "outputs": [],
      "source": [
        "import re\n",
        "import string"
      ]
    },
    {
      "cell_type": "code",
      "execution_count": 5,
      "metadata": {
        "id": "FZltdJ26i6W5"
      },
      "outputs": [],
      "source": [
        "import warnings\n",
        "warnings.filterwarnings('ignore')"
      ]
    },
    {
      "cell_type": "code",
      "execution_count": 6,
      "metadata": {
        "colab": {
          "base_uri": "https://localhost:8080/",
          "height": 224
        },
        "id": "SvbDFm99i9VS",
        "outputId": "912b469a-460d-49f0-a90f-8ae96a554807"
      },
      "outputs": [
        {
          "name": "stdout",
          "output_type": "stream",
          "text": [
            "Number of question pairs:  345033\n"
          ]
        },
        {
          "data": {
            "text/html": [
              "\n",
              "  <div id=\"df-18d623a2-2ab5-437f-b69f-aa9ec9bae141\" class=\"colab-df-container\">\n",
              "    <div>\n",
              "<style scoped>\n",
              "    .dataframe tbody tr th:only-of-type {\n",
              "        vertical-align: middle;\n",
              "    }\n",
              "\n",
              "    .dataframe tbody tr th {\n",
              "        vertical-align: top;\n",
              "    }\n",
              "\n",
              "    .dataframe thead th {\n",
              "        text-align: right;\n",
              "    }\n",
              "</style>\n",
              "<table border=\"1\" class=\"dataframe\">\n",
              "  <thead>\n",
              "    <tr style=\"text-align: right;\">\n",
              "      <th></th>\n",
              "      <th>index</th>\n",
              "      <th>id</th>\n",
              "      <th>qid1</th>\n",
              "      <th>qid2</th>\n",
              "      <th>question1</th>\n",
              "      <th>question2</th>\n",
              "      <th>is_duplicate</th>\n",
              "    </tr>\n",
              "  </thead>\n",
              "  <tbody>\n",
              "    <tr>\n",
              "      <th>0</th>\n",
              "      <td>0</td>\n",
              "      <td>0</td>\n",
              "      <td>1</td>\n",
              "      <td>2</td>\n",
              "      <td>What is the step by step guide to invest in sh...</td>\n",
              "      <td>What is the step by step guide to invest in sh...</td>\n",
              "      <td>0</td>\n",
              "    </tr>\n",
              "    <tr>\n",
              "      <th>1</th>\n",
              "      <td>1</td>\n",
              "      <td>1</td>\n",
              "      <td>3</td>\n",
              "      <td>4</td>\n",
              "      <td>What is the story of Kohinoor (Koh-i-Noor) Dia...</td>\n",
              "      <td>What would happen if the Indian government sto...</td>\n",
              "      <td>0</td>\n",
              "    </tr>\n",
              "    <tr>\n",
              "      <th>2</th>\n",
              "      <td>2</td>\n",
              "      <td>2</td>\n",
              "      <td>5</td>\n",
              "      <td>6</td>\n",
              "      <td>How can I increase the speed of my internet co...</td>\n",
              "      <td>How can Internet speed be increased by hacking...</td>\n",
              "      <td>0</td>\n",
              "    </tr>\n",
              "    <tr>\n",
              "      <th>3</th>\n",
              "      <td>3</td>\n",
              "      <td>6</td>\n",
              "      <td>13</td>\n",
              "      <td>14</td>\n",
              "      <td>Should I buy tiago?</td>\n",
              "      <td>What keeps childern active and far from phone ...</td>\n",
              "      <td>0</td>\n",
              "    </tr>\n",
              "    <tr>\n",
              "      <th>4</th>\n",
              "      <td>4</td>\n",
              "      <td>7</td>\n",
              "      <td>15</td>\n",
              "      <td>16</td>\n",
              "      <td>How can I be a good geologist?</td>\n",
              "      <td>What should I do to be a great geologist?</td>\n",
              "      <td>1</td>\n",
              "    </tr>\n",
              "  </tbody>\n",
              "</table>\n",
              "</div>\n",
              "    <div class=\"colab-df-buttons\">\n",
              "\n",
              "  <div class=\"colab-df-container\">\n",
              "    <button class=\"colab-df-convert\" onclick=\"convertToInteractive('df-18d623a2-2ab5-437f-b69f-aa9ec9bae141')\"\n",
              "            title=\"Convert this dataframe to an interactive table.\"\n",
              "            style=\"display:none;\">\n",
              "\n",
              "  <svg xmlns=\"http://www.w3.org/2000/svg\" height=\"24px\" viewBox=\"0 -960 960 960\">\n",
              "    <path d=\"M120-120v-720h720v720H120Zm60-500h600v-160H180v160Zm220 220h160v-160H400v160Zm0 220h160v-160H400v160ZM180-400h160v-160H180v160Zm440 0h160v-160H620v160ZM180-180h160v-160H180v160Zm440 0h160v-160H620v160Z\"/>\n",
              "  </svg>\n",
              "    </button>\n",
              "\n",
              "  <style>\n",
              "    .colab-df-container {\n",
              "      display:flex;\n",
              "      gap: 12px;\n",
              "    }\n",
              "\n",
              "    .colab-df-convert {\n",
              "      background-color: #E8F0FE;\n",
              "      border: none;\n",
              "      border-radius: 50%;\n",
              "      cursor: pointer;\n",
              "      display: none;\n",
              "      fill: #1967D2;\n",
              "      height: 32px;\n",
              "      padding: 0 0 0 0;\n",
              "      width: 32px;\n",
              "    }\n",
              "\n",
              "    .colab-df-convert:hover {\n",
              "      background-color: #E2EBFA;\n",
              "      box-shadow: 0px 1px 2px rgba(60, 64, 67, 0.3), 0px 1px 3px 1px rgba(60, 64, 67, 0.15);\n",
              "      fill: #174EA6;\n",
              "    }\n",
              "\n",
              "    .colab-df-buttons div {\n",
              "      margin-bottom: 4px;\n",
              "    }\n",
              "\n",
              "    [theme=dark] .colab-df-convert {\n",
              "      background-color: #3B4455;\n",
              "      fill: #D2E3FC;\n",
              "    }\n",
              "\n",
              "    [theme=dark] .colab-df-convert:hover {\n",
              "      background-color: #434B5C;\n",
              "      box-shadow: 0px 1px 3px 1px rgba(0, 0, 0, 0.15);\n",
              "      filter: drop-shadow(0px 1px 2px rgba(0, 0, 0, 0.3));\n",
              "      fill: #FFFFFF;\n",
              "    }\n",
              "  </style>\n",
              "\n",
              "    <script>\n",
              "      const buttonEl =\n",
              "        document.querySelector('#df-18d623a2-2ab5-437f-b69f-aa9ec9bae141 button.colab-df-convert');\n",
              "      buttonEl.style.display =\n",
              "        google.colab.kernel.accessAllowed ? 'block' : 'none';\n",
              "\n",
              "      async function convertToInteractive(key) {\n",
              "        const element = document.querySelector('#df-18d623a2-2ab5-437f-b69f-aa9ec9bae141');\n",
              "        const dataTable =\n",
              "          await google.colab.kernel.invokeFunction('convertToInteractive',\n",
              "                                                    [key], {});\n",
              "        if (!dataTable) return;\n",
              "\n",
              "        const docLinkHtml = 'Like what you see? Visit the ' +\n",
              "          '<a target=\"_blank\" href=https://colab.research.google.com/notebooks/data_table.ipynb>data table notebook</a>'\n",
              "          + ' to learn more about interactive tables.';\n",
              "        element.innerHTML = '';\n",
              "        dataTable['output_type'] = 'display_data';\n",
              "        await google.colab.output.renderOutput(dataTable, element);\n",
              "        const docLink = document.createElement('div');\n",
              "        docLink.innerHTML = docLinkHtml;\n",
              "        element.appendChild(docLink);\n",
              "      }\n",
              "    </script>\n",
              "  </div>\n",
              "\n",
              "\n",
              "<div id=\"df-aa4587b7-3b58-4168-94e7-198e9a42aabe\">\n",
              "  <button class=\"colab-df-quickchart\" onclick=\"quickchart('df-aa4587b7-3b58-4168-94e7-198e9a42aabe')\"\n",
              "            title=\"Suggest charts\"\n",
              "            style=\"display:none;\">\n",
              "\n",
              "<svg xmlns=\"http://www.w3.org/2000/svg\" height=\"24px\"viewBox=\"0 0 24 24\"\n",
              "     width=\"24px\">\n",
              "    <g>\n",
              "        <path d=\"M19 3H5c-1.1 0-2 .9-2 2v14c0 1.1.9 2 2 2h14c1.1 0 2-.9 2-2V5c0-1.1-.9-2-2-2zM9 17H7v-7h2v7zm4 0h-2V7h2v10zm4 0h-2v-4h2v4z\"/>\n",
              "    </g>\n",
              "</svg>\n",
              "  </button>\n",
              "\n",
              "<style>\n",
              "  .colab-df-quickchart {\n",
              "      --bg-color: #E8F0FE;\n",
              "      --fill-color: #1967D2;\n",
              "      --hover-bg-color: #E2EBFA;\n",
              "      --hover-fill-color: #174EA6;\n",
              "      --disabled-fill-color: #AAA;\n",
              "      --disabled-bg-color: #DDD;\n",
              "  }\n",
              "\n",
              "  [theme=dark] .colab-df-quickchart {\n",
              "      --bg-color: #3B4455;\n",
              "      --fill-color: #D2E3FC;\n",
              "      --hover-bg-color: #434B5C;\n",
              "      --hover-fill-color: #FFFFFF;\n",
              "      --disabled-bg-color: #3B4455;\n",
              "      --disabled-fill-color: #666;\n",
              "  }\n",
              "\n",
              "  .colab-df-quickchart {\n",
              "    background-color: var(--bg-color);\n",
              "    border: none;\n",
              "    border-radius: 50%;\n",
              "    cursor: pointer;\n",
              "    display: none;\n",
              "    fill: var(--fill-color);\n",
              "    height: 32px;\n",
              "    padding: 0;\n",
              "    width: 32px;\n",
              "  }\n",
              "\n",
              "  .colab-df-quickchart:hover {\n",
              "    background-color: var(--hover-bg-color);\n",
              "    box-shadow: 0 1px 2px rgba(60, 64, 67, 0.3), 0 1px 3px 1px rgba(60, 64, 67, 0.15);\n",
              "    fill: var(--button-hover-fill-color);\n",
              "  }\n",
              "\n",
              "  .colab-df-quickchart-complete:disabled,\n",
              "  .colab-df-quickchart-complete:disabled:hover {\n",
              "    background-color: var(--disabled-bg-color);\n",
              "    fill: var(--disabled-fill-color);\n",
              "    box-shadow: none;\n",
              "  }\n",
              "\n",
              "  .colab-df-spinner {\n",
              "    border: 2px solid var(--fill-color);\n",
              "    border-color: transparent;\n",
              "    border-bottom-color: var(--fill-color);\n",
              "    animation:\n",
              "      spin 1s steps(1) infinite;\n",
              "  }\n",
              "\n",
              "  @keyframes spin {\n",
              "    0% {\n",
              "      border-color: transparent;\n",
              "      border-bottom-color: var(--fill-color);\n",
              "      border-left-color: var(--fill-color);\n",
              "    }\n",
              "    20% {\n",
              "      border-color: transparent;\n",
              "      border-left-color: var(--fill-color);\n",
              "      border-top-color: var(--fill-color);\n",
              "    }\n",
              "    30% {\n",
              "      border-color: transparent;\n",
              "      border-left-color: var(--fill-color);\n",
              "      border-top-color: var(--fill-color);\n",
              "      border-right-color: var(--fill-color);\n",
              "    }\n",
              "    40% {\n",
              "      border-color: transparent;\n",
              "      border-right-color: var(--fill-color);\n",
              "      border-top-color: var(--fill-color);\n",
              "    }\n",
              "    60% {\n",
              "      border-color: transparent;\n",
              "      border-right-color: var(--fill-color);\n",
              "    }\n",
              "    80% {\n",
              "      border-color: transparent;\n",
              "      border-right-color: var(--fill-color);\n",
              "      border-bottom-color: var(--fill-color);\n",
              "    }\n",
              "    90% {\n",
              "      border-color: transparent;\n",
              "      border-bottom-color: var(--fill-color);\n",
              "    }\n",
              "  }\n",
              "</style>\n",
              "\n",
              "  <script>\n",
              "    async function quickchart(key) {\n",
              "      const quickchartButtonEl =\n",
              "        document.querySelector('#' + key + ' button');\n",
              "      quickchartButtonEl.disabled = true;  // To prevent multiple clicks.\n",
              "      quickchartButtonEl.classList.add('colab-df-spinner');\n",
              "      try {\n",
              "        const charts = await google.colab.kernel.invokeFunction(\n",
              "            'suggestCharts', [key], {});\n",
              "      } catch (error) {\n",
              "        console.error('Error during call to suggestCharts:', error);\n",
              "      }\n",
              "      quickchartButtonEl.classList.remove('colab-df-spinner');\n",
              "      quickchartButtonEl.classList.add('colab-df-quickchart-complete');\n",
              "    }\n",
              "    (() => {\n",
              "      let quickchartButtonEl =\n",
              "        document.querySelector('#df-aa4587b7-3b58-4168-94e7-198e9a42aabe button');\n",
              "      quickchartButtonEl.style.display =\n",
              "        google.colab.kernel.accessAllowed ? 'block' : 'none';\n",
              "    })();\n",
              "  </script>\n",
              "</div>\n",
              "\n",
              "    </div>\n",
              "  </div>\n"
            ],
            "text/plain": [
              "   index  id  qid1  qid2                                          question1  \\\n",
              "0      0   0     1     2  What is the step by step guide to invest in sh...   \n",
              "1      1   1     3     4  What is the story of Kohinoor (Koh-i-Noor) Dia...   \n",
              "2      2   2     5     6  How can I increase the speed of my internet co...   \n",
              "3      3   6    13    14                                Should I buy tiago?   \n",
              "4      4   7    15    16                     How can I be a good geologist?   \n",
              "\n",
              "                                           question2  is_duplicate  \n",
              "0  What is the step by step guide to invest in sh...             0  \n",
              "1  What would happen if the Indian government sto...             0  \n",
              "2  How can Internet speed be increased by hacking...             0  \n",
              "3  What keeps childern active and far from phone ...             0  \n",
              "4          What should I do to be a great geologist?             1  "
            ]
          },
          "execution_count": 6,
          "metadata": {},
          "output_type": "execute_result"
        }
      ],
      "source": [
        "data = pd.read_csv(\"/content/drive/MyDrive/test/Siamese_for_Article/Data/quora_duplicate_questions.csv\")\n",
        "#data.fillna(\"none value\", inplace=True) # replace nan value to none\n",
        "# drop the rows with null value\n",
        "data.dropna(axis=0, inplace=True)\n",
        "N=len(data)\n",
        "print('Number of question pairs: ', N)\n",
        "data.head()"
      ]
    },
    {
      "cell_type": "code",
      "execution_count": 7,
      "metadata": {
        "colab": {
          "base_uri": "https://localhost:8080/"
        },
        "id": "f4rCkD15jFFj",
        "outputId": "3b922f4c-6a26-4791-c4aa-2233faa4fcb2"
      },
      "outputs": [
        {
          "data": {
            "text/plain": [
              "(258774, 86259)"
            ]
          },
          "execution_count": 7,
          "metadata": {},
          "output_type": "execute_result"
        }
      ],
      "source": [
        "# model selection\n",
        "from sklearn.model_selection import train_test_split\n",
        "data_train , data_test = train_test_split(data, train_size=0.75, random_state=0)\n",
        "# validation_data, _ = train_test_split(data_train, train_size=0.1, random_state=0)\n",
        "len(data_train), len(data_test)"
      ]
    },
    {
      "cell_type": "code",
      "execution_count": 8,
      "metadata": {
        "id": "EpNIYnzUjJLh"
      },
      "outputs": [],
      "source": [
        "train_Q1 = np.array(data_train['question1'])\n",
        "train_Q2 = np.array(data_train['question2'])\n",
        "t_labels = np.array(data_train['is_duplicate'])\n",
        "# make it one-hot encoding\n",
        "train_labels = tf.keras.utils.to_categorical(t_labels, num_classes=2)\n",
        "\n",
        "test_Q1 = np.array(data_test['question1'])\n",
        "test_Q2 = np.array(data_test['question2'])\n",
        "te_labels  = np.array(data_test['is_duplicate'])\n",
        "# make it one-hot encoding\n",
        "test_labels = tf.keras.utils.to_categorical(te_labels, num_classes=2)"
      ]
    },
    {
      "cell_type": "code",
      "execution_count": 9,
      "metadata": {
        "colab": {
          "base_uri": "https://localhost:8080/"
        },
        "id": "bJ0Wpq-4nZsM",
        "outputId": "6dd6dcf8-1446-4710-8c57-a5ed9a272c7a"
      },
      "outputs": [
        {
          "data": {
            "text/plain": [
              "((258774,), (86259,))"
            ]
          },
          "execution_count": 9,
          "metadata": {},
          "output_type": "execute_result"
        }
      ],
      "source": [
        "#create arrays\n",
        "\n",
        "Q1_train_tensor = np.empty_like(train_Q1)\n",
        "Q2_train_tensor = np.empty_like(train_Q2)\n",
        "\n",
        "Q1_test_tensor = np.empty_like(test_Q1)\n",
        "Q2_test_tensor = np.empty_like(test_Q2)\n",
        "\n",
        "Q1_train_tensor.shape, Q1_test_tensor.shape"
      ]
    },
    {
      "cell_type": "code",
      "execution_count": 10,
      "metadata": {
        "id": "J7LnnWNPQIzf"
      },
      "outputs": [],
      "source": [
        "def text_to_word_list(text):\n",
        "    ''' Pre process and convert texts to a list of words '''\n",
        "    text = str(text)\n",
        "    text = text.lower()\n",
        "\n",
        "    # Clean the text\n",
        "    text = re.sub(r\"[^A-Za-z0-9^,?!.]+\", \" \", text)\n",
        "    text = re.sub(r\"what's\", \"what is \", text)\n",
        "    text = re.sub(r\"'s\", \" \", text)\n",
        "    text = re.sub(r\"'ve\", \" have \", text)\n",
        "    text = re.sub(r\"can't\", \"cannot \", text)\n",
        "    text = re.sub(r\"n't\", \" not \", text)\n",
        "    text = re.sub(r\"i'm\", \"i am \", text)\n",
        "    text = re.sub(r\"'re\", \" are \", text)\n",
        "    text = re.sub(r\"'d\", \" would \", text)\n",
        "    text = re.sub(r\"'ll\", \" will \", text)\n",
        "    text = re.sub(r\"[,]+\", \" \", text)\n",
        "    text = re.sub(r\"\\.[^ ]*\", \" .\", text)\n",
        "    text = re.sub(r\"\\?[^ ]*\", \" ?\", text)\n",
        "    text = re.sub(r\"\\![^ ]*\", \" !\", text)\n",
        "    text = re.sub(r\" e g \", \" eg \", text)\n",
        "    text = re.sub(r\" b g \", \" bg \", text)\n",
        "    text = re.sub(r\" u s \", \" american \", text)\n",
        "    text = re.sub(r\"\\0s\", \"0\", text)\n",
        "    text = re.sub(r\" 9 11 \", \"911\", text)\n",
        "    text = re.sub(r\"e - mail\", \"email\", text)\n",
        "    text = re.sub(r\"j k\", \"jk\", text)\n",
        "    text = re.sub(r\"\\s{2,}\", \" \", text)\n",
        "\n",
        "    text = text.split()\n",
        "\n",
        "    return text"
      ]
    },
    {
      "cell_type": "code",
      "execution_count": 11,
      "metadata": {
        "id": "6H17n1ODnaVb"
      },
      "outputs": [],
      "source": [
        "# # process train and test questions\n",
        "\n",
        "Q1_train_words = {}\n",
        "Q2_train_words = {}\n",
        "\n",
        "Q1_test_words = {}\n",
        "Q2_test_words = {}\n",
        "\n",
        "for idx in range(len(train_Q1)):\n",
        "    Q1_train_words[idx] = text_to_word_list(train_Q1[idx])\n",
        "    Q2_train_words[idx] = text_to_word_list(train_Q2[idx])\n",
        "\n",
        "for idx in range(len(test_Q1)):\n",
        "    Q1_test_words[idx] = text_to_word_list(test_Q1[idx])\n",
        "    Q2_test_words[idx] = text_to_word_list(test_Q2[idx])"
      ]
    },
    {
      "cell_type": "code",
      "execution_count": 12,
      "metadata": {
        "colab": {
          "base_uri": "https://localhost:8080/"
        },
        "id": "aSUrKFl_wW7L",
        "outputId": "9660492a-74d7-4b42-cc78-d35838be7fbe"
      },
      "outputs": [
        {
          "name": "stdout",
          "output_type": "stream",
          "text": [
            "The length of the vocabulary is:  65119\n"
          ]
        }
      ],
      "source": [
        "# make vocabulary\n",
        "vocab = {}\n",
        "word_count = 0\n",
        "for idx in range(len(train_Q1)):\n",
        "\n",
        "    q = Q1_train_words[idx] + Q2_train_words[idx]\n",
        "    for word in q:\n",
        "        if word not in vocab:\n",
        "            word_count += 1\n",
        "            vocab[word] = word_count\n",
        "print('The length of the vocabulary is: ', len(vocab))"
      ]
    },
    {
      "cell_type": "code",
      "execution_count": 13,
      "metadata": {
        "colab": {
          "base_uri": "https://localhost:8080/"
        },
        "id": "06Bonw_IpPIg",
        "outputId": "8205b637-f21a-4455-ba66-8ec10afabfec"
      },
      "outputs": [
        {
          "name": "stdout",
          "output_type": "stream",
          "text": [
            "--2024-01-04 18:01:52--  http://nlp.stanford.edu/data/glove.42B.300d.zip\n",
            "Resolving nlp.stanford.edu (nlp.stanford.edu)... 171.64.67.140\n",
            "Connecting to nlp.stanford.edu (nlp.stanford.edu)|171.64.67.140|:80... connected.\n",
            "HTTP request sent, awaiting response... 302 Found\n",
            "Location: https://nlp.stanford.edu/data/glove.42B.300d.zip [following]\n",
            "--2024-01-04 18:01:52--  https://nlp.stanford.edu/data/glove.42B.300d.zip\n",
            "Connecting to nlp.stanford.edu (nlp.stanford.edu)|171.64.67.140|:443... connected.\n",
            "HTTP request sent, awaiting response... 301 Moved Permanently\n",
            "Location: https://downloads.cs.stanford.edu/nlp/data/glove.42B.300d.zip [following]\n",
            "--2024-01-04 18:01:53--  https://downloads.cs.stanford.edu/nlp/data/glove.42B.300d.zip\n",
            "Resolving downloads.cs.stanford.edu (downloads.cs.stanford.edu)... 171.64.64.22\n",
            "Connecting to downloads.cs.stanford.edu (downloads.cs.stanford.edu)|171.64.64.22|:443... connected.\n",
            "HTTP request sent, awaiting response... 200 OK\n",
            "Length: 1877800501 (1.7G) [application/zip]\n",
            "Saving to: ‘glove.42B.300d.zip’\n",
            "\n",
            "glove.42B.300d.zip  100%[===================>]   1.75G  4.99MB/s    in 5m 52s  \n",
            "\n",
            "2024-01-04 18:07:46 (5.08 MB/s) - ‘glove.42B.300d.zip’ saved [1877800501/1877800501]\n",
            "\n"
          ]
        }
      ],
      "source": [
        "!wget http://nlp.stanford.edu/data/glove.42B.300d.zip"
      ]
    },
    {
      "cell_type": "code",
      "execution_count": 14,
      "metadata": {
        "colab": {
          "base_uri": "https://localhost:8080/"
        },
        "id": "H8w9jJa6UqMD",
        "outputId": "0186fe7e-d2f2-478d-9ca1-4b1640fba664"
      },
      "outputs": [
        {
          "name": "stdout",
          "output_type": "stream",
          "text": [
            "Archive:  /content/glove.42B.300d.zip\n",
            "  inflating: glove.42B.300d.txt      \n"
          ]
        }
      ],
      "source": [
        "!unzip '/content/glove.42B.300d.zip'"
      ]
    },
    {
      "cell_type": "code",
      "execution_count": 15,
      "metadata": {
        "colab": {
          "base_uri": "https://localhost:8080/"
        },
        "id": "LZDLsF3Ft8-G",
        "outputId": "4050d0fa-b780-4dd7-c0d6-d6ccbd92b4cf"
      },
      "outputs": [
        {
          "name": "stdout",
          "output_type": "stream",
          "text": [
            "Found 1917494 word vectors.\n"
          ]
        }
      ],
      "source": [
        "path_to_glove_file = '/content/glove.42B.300d.txt'\n",
        "\n",
        "embeddings_index = {}\n",
        "with open(path_to_glove_file) as f:\n",
        "    for line in f:\n",
        "        word, coefs = line.split(maxsplit=1)\n",
        "        coefs = np.fromstring(coefs, \"f\", sep=\" \")\n",
        "        embeddings_index[word] = coefs\n",
        "\n",
        "print(\"Found %s word vectors.\" % len(embeddings_index))"
      ]
    },
    {
      "cell_type": "code",
      "execution_count": 16,
      "metadata": {
        "colab": {
          "base_uri": "https://localhost:8080/"
        },
        "id": "t56igqsmvUky",
        "outputId": "04be7d08-d8fe-4d35-c88f-8e9a44b30497"
      },
      "outputs": [
        {
          "name": "stdout",
          "output_type": "stream",
          "text": [
            "Converted 58031 words (7088 misses)\n"
          ]
        }
      ],
      "source": [
        "num_tokens = len(vocab) + 2\n",
        "embedding_dim = 300\n",
        "hits = 0\n",
        "misses = 0\n",
        "\n",
        "# Prepare embedding matrix\n",
        "embedding_matrix = np.zeros((num_tokens, embedding_dim))\n",
        "for word, i in vocab.items():\n",
        "    embedding_vector = embeddings_index.get(word)\n",
        "    if embedding_vector is not None:\n",
        "        # Words not found in embedding index will be all-zeros.\n",
        "        # This includes the representation for \"padding\" and \"OOV\"\n",
        "        embedding_matrix[i] = embedding_vector\n",
        "        hits += 1\n",
        "    else:\n",
        "        misses += 1\n",
        "print(\"Converted %d words (%d misses)\" % (hits, misses))"
      ]
    },
    {
      "cell_type": "code",
      "execution_count": 17,
      "metadata": {
        "id": "qwBsiKtGyAgn"
      },
      "outputs": [],
      "source": [
        "# Converting questions to array of integers\n",
        "for i in range(len(train_Q1)):\n",
        "    Q1_train_tensor[i] = [vocab.get(word, 0) for word in Q1_train_words[i]]\n",
        "    Q2_train_tensor[i] = [vocab.get(word, 0) for word in Q2_train_words[i]]\n",
        "\n",
        "\n",
        "for i in range(len(test_Q1)):\n",
        "    Q1_test_tensor[i] = [vocab.get(word, 0) for word in Q1_test_words[i]]\n",
        "    Q2_test_tensor[i] = [vocab.get(word, 0) for word in Q2_test_words[i]]"
      ]
    },
    {
      "cell_type": "code",
      "execution_count": 18,
      "metadata": {
        "colab": {
          "base_uri": "https://localhost:8080/"
        },
        "id": "Y3_vWiCx1sZ9",
        "outputId": "94d27673-1a84-4706-c8f5-ccd4e88945c3"
      },
      "outputs": [
        {
          "name": "stdout",
          "output_type": "stream",
          "text": [
            "first question in the train set:\n",
            "\n",
            "Who is the husband of sunny leone? \n",
            "\n",
            "encoded version:\n",
            "[1, 2, 3, 4, 5, 6, 7, 8] \n",
            "\n",
            "first question in the test set:\n",
            "\n",
            "What was the best day of your life? \n",
            "\n",
            "encoded version:\n",
            "[9, 68, 3, 232, 863, 5, 76, 13, 8]\n"
          ]
        }
      ],
      "source": [
        "print('first question in the train set:\\n')\n",
        "print(train_Q1[0], '\\n', )\n",
        "\n",
        "print('encoded version:')\n",
        "print(Q1_train_tensor[0],'\\n')\n",
        "\n",
        "print('first question in the test set:\\n')\n",
        "print(test_Q1[0], '\\n')\n",
        "print('encoded version:')\n",
        "print(Q1_test_tensor[0])"
      ]
    },
    {
      "cell_type": "code",
      "execution_count": 19,
      "metadata": {
        "colab": {
          "base_uri": "https://localhost:8080/"
        },
        "id": "3CedYcXgHcrU",
        "outputId": "ed9a82e1-02fa-40bb-84bd-4b5282a789b3"
      },
      "outputs": [
        {
          "data": {
            "text/plain": [
              "array([[    1,     2,     3, ...,     0,     0,     0],\n",
              "       [    9,     2,     3, ...,     0,     0,     0],\n",
              "       [    9,    14,    15, ...,     0,     0,     0],\n",
              "       ...,\n",
              "       [    9,    14,     3, ...,     0,     0,     0],\n",
              "       [    9,     2,     3, ...,     0,     0,     0],\n",
              "       [   50, 14721,   115, ...,     0,     0,     0]], dtype=int32)"
            ]
          },
          "execution_count": 19,
          "metadata": {},
          "output_type": "execute_result"
        }
      ],
      "source": [
        "# For demonstration\n",
        "pad_sequences(Q1_train_tensor, maxlen=16, padding='post')"
      ]
    },
    {
      "cell_type": "code",
      "execution_count": 20,
      "metadata": {
        "id": "tCm0aBWr6rW5"
      },
      "outputs": [],
      "source": [
        "class data_generator(tf.keras.utils.Sequence):\n",
        "    def __init__(self, Q1, Q2, labels, batch_size, max_len, shuffle=True):\n",
        "        self.Q1 = Q1\n",
        "        self.Q2 = Q2\n",
        "        self.labels = labels\n",
        "        self.batch_size = batch_size\n",
        "        self.max_len = max_len\n",
        "        self.shuffle = shuffle\n",
        "\n",
        "        self.indexes = np.arange(len(self.Q1))\n",
        "        self.on_epoch_end()\n",
        "\n",
        "    def __len__(self):\n",
        "        # Denotes the number of batches per epoch.\n",
        "        return len(self.Q1) // self.batch_size\n",
        "\n",
        "    def __getitem__(self, idx):\n",
        "        # Retrieves the batch of index.\n",
        "        indexes = self.indexes[idx * self.batch_size : (idx + 1) * self.batch_size]\n",
        "        input1 = self.Q1[indexes]\n",
        "        input2 = self.Q2[indexes]\n",
        "        targets = self.labels[indexes]\n",
        "\n",
        "        pad_input1 = pad_sequences(input1, maxlen=self.max_len, padding='post')\n",
        "        pad_input2 = pad_sequences(input2, maxlen=self.max_len, padding='post')\n",
        "\n",
        "        return [pad_input1, pad_input2], targets\n",
        "\n",
        "\n",
        "    def on_epoch_end(self):\n",
        "        # Shuffle indexes after each epoch if shuffle is set to True.\n",
        "        if self.shuffle:\n",
        "            np.random.shuffle(self.indexes)"
      ]
    },
    {
      "cell_type": "code",
      "execution_count": 21,
      "metadata": {
        "id": "t4kTcPo1COfB"
      },
      "outputs": [],
      "source": [
        "# define model\n",
        "def create_model(max_len, lstm_units, lr_rate, loss_fn):\n",
        "\n",
        "    def exponent_neg_manhattan_distance(left, right):\n",
        "        return K.exp(-K.sum(K.abs(left-right), axis=1, keepdims=True))\n",
        "\n",
        "    # Input tensor placeholders\n",
        "    left_input = tf.keras.Input(shape=(max_len,), dtype='int32')\n",
        "    right_input = tf.keras.Input(shape=(max_len,), dtype='int32')\n",
        "\n",
        "    # Embedding layer\n",
        "    embedding_dim = 300\n",
        "    embedding_layer = Embedding(len(vocab)+2, embedding_dim, weights=[embedding_matrix], trainable=True)\n",
        "\n",
        "    # Add the embedding dimension to input placeholders\n",
        "    encoded_left = embedding_layer(left_input)\n",
        "    encoded_right = embedding_layer(right_input)\n",
        "\n",
        "    # Initialise the LSTM\n",
        "    shared_lstm = tf.keras.layers.LSTM(lstm_units)\n",
        "    encoded_l = shared_lstm(encoded_left)\n",
        "    encoded_r = shared_lstm(encoded_right)\n",
        "\n",
        "    # Calculates the manhattan distance\n",
        "    # Add a customized layer to compute the absolute difference between the encodings\n",
        "    L1_layer = tf.keras.layers.Lambda(lambda tensors: exponent_neg_manhattan_distance(tensors[0], tensors[1]))\n",
        "    L1_distance = L1_layer([encoded_l, encoded_r])\n",
        "\n",
        "    # Add a dense layer with a sigmoid unit to generate the similarity score\n",
        "    prediction = tf.keras.layers.Dense(1, activation='sigmoid')(L1_distance)\n",
        "\n",
        "    # Build the model\n",
        "    model = tf.keras.Model(inputs=[left_input, right_input], outputs=[L1_distance])\n",
        "\n",
        "    # compile model\n",
        "    model.compile(\n",
        "        optimizer = tf.keras.optimizers.Adam(learning_rate=lr_rate),\n",
        "        loss = loss_fn,\n",
        "        metrics = ['accuracy'],\n",
        "    )\n",
        "\n",
        "    return model\n"
      ]
    },
    {
      "cell_type": "code",
      "execution_count": 22,
      "metadata": {
        "colab": {
          "base_uri": "https://localhost:8080/"
        },
        "id": "Y_u9gpNUPPWj",
        "outputId": "c6a07b79-f1a6-4991-9457-81cb42ae917a"
      },
      "outputs": [
        {
          "name": "stdout",
          "output_type": "stream",
          "text": [
            "Model: \"model\"\n",
            "__________________________________________________________________________________________________\n",
            " Layer (type)                Output Shape                 Param #   Connected to                  \n",
            "==================================================================================================\n",
            " input_1 (InputLayer)        [(None, 64)]                 0         []                            \n",
            "                                                                                                  \n",
            " input_2 (InputLayer)        [(None, 64)]                 0         []                            \n",
            "                                                                                                  \n",
            " embedding (Embedding)       (None, 64, 300)              1953630   ['input_1[0][0]',             \n",
            "                                                          0          'input_2[0][0]']             \n",
            "                                                                                                  \n",
            " lstm (LSTM)                 (None, 64)                   93440     ['embedding[0][0]',           \n",
            "                                                                     'embedding[1][0]']           \n",
            "                                                                                                  \n",
            " lambda (Lambda)             (None, 1)                    0         ['lstm[0][0]',                \n",
            "                                                                     'lstm[1][0]']                \n",
            "                                                                                                  \n",
            "==================================================================================================\n",
            "Total params: 19629740 (74.88 MB)\n",
            "Trainable params: 19629740 (74.88 MB)\n",
            "Non-trainable params: 0 (0.00 Byte)\n",
            "__________________________________________________________________________________________________\n"
          ]
        }
      ],
      "source": [
        "# Create the model under a distribution strategy scope.\n",
        "strategy = tf.distribute.MirroredStrategy()\n",
        "\n",
        "with strategy.scope():\n",
        "    loss_fn = tf.keras.losses.MeanSquaredError()\n",
        "    model = create_model(max_len = 64,\n",
        "                        lstm_units = 64,\n",
        "                        lr_rate = 0.001,\n",
        "                        loss_fn = loss_fn\n",
        "                    )\n",
        "\n",
        "# print(f\"Strategy: {strategy}\")\n",
        "model.summary()"
      ]
    },
    {
      "cell_type": "code",
      "execution_count": 23,
      "metadata": {
        "colab": {
          "base_uri": "https://localhost:8080/",
          "height": 545
        },
        "id": "iiI_zqo32qJr",
        "outputId": "4a6f8328-3b13-45f0-efb5-a79bed381a64"
      },
      "outputs": [
        {
          "data": {
            "image/png": "[encoded data removed]",
            "text/plain": [
              "<IPython.core.display.Image object>"
            ]
          },
          "execution_count": 23,
          "metadata": {},
          "output_type": "execute_result"
        }
      ],
      "source": [
        "tf.keras.utils.plot_model(\n",
        "    model,\n",
        "    to_file=\"model.png\",\n",
        "    show_shapes=True,\n",
        "    show_dtype=True,\n",
        "    show_layer_names=True,\n",
        "    rankdir=\"TB\",\n",
        "    expand_nested=True)"
      ]
    },
    {
      "cell_type": "code",
      "execution_count": 24,
      "metadata": {
        "id": "VByR9T7qPDPD"
      },
      "outputs": [],
      "source": [
        "batch_size = 256\n",
        "train_data = data_generator(\n",
        "    Q1_train_tensor,\n",
        "    Q2_train_tensor,\n",
        "    t_labels,\n",
        "    batch_size,\n",
        "    64,\n",
        "    )\n",
        "valid_data = data_generator(\n",
        "    Q1_test_tensor,\n",
        "    Q2_test_tensor,\n",
        "    te_labels,\n",
        "    batch_size,\n",
        "    64,\n",
        "    shuffle=False,\n",
        "    )"
      ]
    },
    {
      "cell_type": "code",
      "execution_count": 25,
      "metadata": {
        "colab": {
          "base_uri": "https://localhost:8080/"
        },
        "id": "drhN3IwH_7Kf",
        "outputId": "1944d752-24e4-4ffc-9787-1a72fff2bb92"
      },
      "outputs": [
        {
          "name": "stdout",
          "output_type": "stream",
          "text": [
            "0.001\n"
          ]
        }
      ],
      "source": [
        "# change learning rate\n",
        "\n",
        "tf.keras.backend.set_value(model.optimizer.lr, 0.001)\n",
        "print(tf.keras.backend.get_value(model.optimizer.lr))"
      ]
    },
    {
      "cell_type": "code",
      "execution_count": 26,
      "metadata": {
        "id": "U976CbBOKVtN"
      },
      "outputs": [],
      "source": [
        "callback = tf.keras.callbacks.EarlyStopping(\n",
        "    monitor=\"val_accuracy\",\n",
        "    min_delta=0,\n",
        "    patience=3,\n",
        "    verbose=0,\n",
        "    mode=\"max\",\n",
        "    baseline=None,\n",
        "    restore_best_weights=True,\n",
        ")"
      ]
    },
    {
      "cell_type": "code",
      "execution_count": 27,
      "metadata": {
        "colab": {
          "base_uri": "https://localhost:8080/"
        },
        "id": "Eeu2QAAfPK5K",
        "outputId": "501a07f9-f30f-443b-9b82-34417c3ed8df"
      },
      "outputs": [
        {
          "name": "stdout",
          "output_type": "stream",
          "text": [
            "Epoch 1/100\n",
            "1010/1010 [==============================] - 68s 61ms/step - loss: 0.2252 - accuracy: 0.6662 - val_loss: 0.1694 - val_accuracy: 0.7525\n",
            "Epoch 2/100\n",
            "1010/1010 [==============================] - 29s 29ms/step - loss: 0.1472 - accuracy: 0.7889 - val_loss: 0.1485 - val_accuracy: 0.7886\n",
            "Epoch 3/100\n",
            "1010/1010 [==============================] - 29s 28ms/step - loss: 0.1226 - accuracy: 0.8304 - val_loss: 0.1449 - val_accuracy: 0.7925\n",
            "Epoch 4/100\n",
            "1010/1010 [==============================] - 24s 24ms/step - loss: 0.1087 - accuracy: 0.8538 - val_loss: 0.1367 - val_accuracy: 0.8086\n",
            "Epoch 5/100\n",
            "1010/1010 [==============================] - 25s 25ms/step - loss: 0.0980 - accuracy: 0.8711 - val_loss: 0.1380 - val_accuracy: 0.8087\n",
            "Epoch 6/100\n",
            "1010/1010 [==============================] - 25s 25ms/step - loss: 0.0885 - accuracy: 0.8879 - val_loss: 0.1353 - val_accuracy: 0.8085\n",
            "Epoch 7/100\n",
            "1010/1010 [==============================] - 23s 23ms/step - loss: 0.0810 - accuracy: 0.9001 - val_loss: 0.1308 - val_accuracy: 0.8186\n",
            "Epoch 8/100\n",
            "1010/1010 [==============================] - 25s 24ms/step - loss: 0.0737 - accuracy: 0.9124 - val_loss: 0.1307 - val_accuracy: 0.8224\n",
            "Epoch 9/100\n",
            "1010/1010 [==============================] - 27s 27ms/step - loss: 0.0678 - accuracy: 0.9217 - val_loss: 0.1290 - val_accuracy: 0.8225\n",
            "Epoch 10/100\n",
            "1010/1010 [==============================] - 24s 24ms/step - loss: 0.0622 - accuracy: 0.9302 - val_loss: 0.1290 - val_accuracy: 0.8230\n",
            "Epoch 11/100\n",
            "1010/1010 [==============================] - 25s 25ms/step - loss: 0.0574 - accuracy: 0.9379 - val_loss: 0.1274 - val_accuracy: 0.8278\n",
            "Epoch 12/100\n",
            "1010/1010 [==============================] - 25s 25ms/step - loss: 0.0527 - accuracy: 0.9452 - val_loss: 0.1278 - val_accuracy: 0.8265\n",
            "Epoch 13/100\n",
            "1010/1010 [==============================] - 23s 23ms/step - loss: 0.0489 - accuracy: 0.9506 - val_loss: 0.1265 - val_accuracy: 0.8268\n",
            "Epoch 14/100\n",
            "1010/1010 [==============================] - 25s 25ms/step - loss: 0.0455 - accuracy: 0.9552 - val_loss: 0.1260 - val_accuracy: 0.8268\n"
          ]
        }
      ],
      "source": [
        "epochs = 100\n",
        "history = model.fit(\n",
        "    train_data,\n",
        "    validation_data=valid_data,\n",
        "    epochs=epochs,\n",
        "    callbacks = [callback],\n",
        "    use_multiprocessing=True,\n",
        "    workers=-1,\n",
        ")"
      ]
    },
    {
      "cell_type": "code",
      "execution_count": 28,
      "metadata": {
        "colab": {
          "base_uri": "https://localhost:8080/"
        },
        "id": "l1Av3hLXZ81H",
        "outputId": "2f35fd9f-c8d1-498a-90ef-4ed754c2fc3d"
      },
      "outputs": [
        {
          "name": "stdout",
          "output_type": "stream",
          "text": [
            "336/336 [==============================] - 4s 10ms/step\n"
          ]
        }
      ],
      "source": [
        "preds = model.predict(\n",
        "    valid_data,\n",
        "    batch_size=batch_size,\n",
        "    use_multiprocessing=True\n",
        ")\n"
      ]
    },
    {
      "cell_type": "code",
      "execution_count": 29,
      "metadata": {
        "colab": {
          "base_uri": "https://localhost:8080/"
        },
        "id": "21yLGR5A2rJx",
        "outputId": "44701b35-0894-442a-9a68-adb65295b89d"
      },
      "outputs": [
        {
          "name": "stdout",
          "output_type": "stream",
          "text": [
            "accuracy:  0.8277762276785714\n",
            "F1 score:  0.7697902097902098\n",
            "Recall score:  0.7310939252612315\n",
            "confusion matrix: \n",
            " [[46434  5704]\n",
            " [ 9110 24768]]\n"
          ]
        }
      ],
      "source": [
        "from sklearn.metrics import accuracy_score, f1_score, recall_score, confusion_matrix\n",
        "y_pred = np.where(preds > 0.5, 1, 0)\n",
        "n = y_pred.shape[0]\n",
        "y_true = te_labels[:n]\n",
        "print('accuracy: ', accuracy_score(y_true, y_pred))\n",
        "print('F1 score: ', f1_score(y_true, y_pred))\n",
        "print('Recall score: ', recall_score(y_true, y_pred))\n",
        "print('confusion matrix: \\n', confusion_matrix(y_true, y_pred))"
      ]
    },
    {
      "cell_type": "code",
      "execution_count": 30,
      "metadata": {
        "colab": {
          "base_uri": "https://localhost:8080/",
          "height": 510
        },
        "id": "10saVoOZmrPR",
        "outputId": "d260cfb4-f536-409a-a334-285366ad1be0"
      },
      "outputs": [
        {
          "data": {
            "image/png": "[encoded data removed]",
            "text/plain": [
              "<Figure size 1200x400 with 2 Axes>"
            ]
          },
          "metadata": {},
          "output_type": "display_data"
        }
      ],
      "source": [
        "# draw plots\n",
        "fig, axs = plt.subplots(1, 2, figsize=(12,4))\n",
        "fig.suptitle('\\nSiamese MaLSTM with GloVe Common Crawl Uncased Embedding', x=0.5, y=1.15,fontsize=16)\n",
        "\n",
        "axs[0].plot(history.history['loss'], label='train loss')\n",
        "axs[0].plot(history.history['val_loss'], label='val loss')\n",
        "axs[0].set_title('\\nModel loss', fontsize=16)\n",
        "axs[0].set_xlabel('epochs', fontsize=20)\n",
        "axs[0].set_ylabel('loss', fontsize=20)\n",
        "axs[0].legend()\n",
        "\n",
        "axs[1].plot(history.history['accuracy'], label='train accuracy')\n",
        "axs[1].plot(history.history['val_accuracy'], label='val accuracy')\n",
        "axs[1].set_title('\\nModel accuracy', fontsize=16)\n",
        "axs[1].set_xlabel('epochs', fontsize=20)\n",
        "axs[1].set_ylabel('accuracy', fontsize=20)\n",
        "axs[1].legend()\n",
        "\n",
        "plt.show()"
      ]
    },
    {
      "cell_type": "code",
      "execution_count": 30,
      "metadata": {
        "id": "PGczjOk3NNKA"
      },
      "outputs": [],
      "source": []
    }
  ],
  "metadata": {
    "accelerator": "GPU",
    "colab": {
      "gpuType": "T4",
      "provenance": []
    },
    "kernelspec": {
      "display_name": "Python 3",
      "name": "python3"
    },
    "language_info": {
      "name": "python",
      "version": "3.11.6"
    }
  },
  "nbformat": 4,
  "nbformat_minor": 0
}
